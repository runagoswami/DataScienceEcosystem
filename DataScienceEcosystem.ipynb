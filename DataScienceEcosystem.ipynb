{
 "cells": [
  {
   "cell_type": "markdown",
   "id": "4a401a93-939f-4a47-aa43-bee5bd32d215",
   "metadata": {
    "tags": []
   },
   "source": [
    "# Data Science Tools and Ecosystem \n"
   ]
  },
  {
   "cell_type": "markdown",
   "id": "7272885b-95a5-4db1-a150-f82843cf83ea",
   "metadata": {},
   "source": [
    "In this notebook, Data Science Tools and Ecosystem are summarized."
   ]
  },
  {
   "cell_type": "markdown",
   "id": "f16711db-99c7-430e-bf67-5940303d87f4",
   "metadata": {},
   "source": [
    "**Objectives:**\n",
    "\n",
    "- List popular languages that Data Scientists use.\n",
    "- List commonly used libraries used by Data Scientists.\n",
    "- Comment on Data Science tools.\n"
   ]
  },
  {
   "cell_type": "markdown",
   "id": "3483b043-3fdc-4d5b-9ebe-5c6609e8dab6",
   "metadata": {},
   "source": [
    "Some of the popular languages that Data Scientists use are:\n",
    "\n",
    "1.Python\n",
    "\n",
    "2.R\n",
    "\n",
    "3.SQL"
   ]
  },
  {
   "cell_type": "markdown",
   "id": "725b07cc-c825-4826-9602-656fc42e42a9",
   "metadata": {},
   "source": [
    "Some of the commonly used libraries used by Data Scientists include:\n",
    "\n",
    "1.Matplotlib\n",
    "\n",
    "2.NumPy\n",
    "\n",
    "3.PyTorch\n",
    "\n",
    "4.Tensorflow\n",
    "\n",
    "5.Pandas"
   ]
  },
  {
   "cell_type": "markdown",
   "id": "217837cb-8486-4802-8015-eb64da268f41",
   "metadata": {},
   "source": [
    "|Data Science Tools|\n",
    "|---|\n",
    "|SAS|\n",
    "|Apache Hadoop|\n",
    "|Tensorflow|"
   ]
  },
  {
   "cell_type": "markdown",
   "id": "124a89f9-c4c9-4dfc-8dd9-6fbf63fba84d",
   "metadata": {},
   "source": [
    "### Below are a few examples of evaluating arithmetic expressions in Python: ###"
   ]
  },
  {
   "cell_type": "code",
   "execution_count": 3,
   "id": "efaca3c6-2d70-42d0-8339-85c2850f2514",
   "metadata": {},
   "outputs": [
    {
     "name": "stdout",
     "output_type": "stream",
     "text": [
      "19\n"
     ]
    }
   ],
   "source": [
    "x=9 #int\n",
    "y=10 #int\n",
    "z=x+y\n",
    "print(z)"
   ]
  },
  {
   "cell_type": "code",
   "execution_count": 9,
   "id": "580678b6-14eb-4918-bde7-8b62cdb8f78a",
   "metadata": {
    "tags": []
   },
   "outputs": [
    {
     "name": "stdout",
     "output_type": "stream",
     "text": [
      "20.285714285714285\n"
     ]
    }
   ],
   "source": [
    "x=float(28.4) \n",
    "y=float(1.4) \n",
    "z=x/y\n",
    "print(z)"
   ]
  },
  {
   "cell_type": "code",
   "execution_count": 11,
   "id": "d9a6830b-d651-4ae2-84ec-b629dc9206d2",
   "metadata": {
    "tags": []
   },
   "outputs": [
    {
     "data": {
      "text/plain": [
       "17"
      ]
     },
     "execution_count": 11,
     "metadata": {},
     "output_type": "execute_result"
    }
   ],
   "source": [
    "#This a simple arithmetic expression to mutiply then add integers:\n",
    "(3*4)+5\n"
   ]
  },
  {
   "cell_type": "code",
   "execution_count": 13,
   "id": "bf94f4a1-b735-4da8-ba9b-3cbe81f35d0c",
   "metadata": {
    "tags": []
   },
   "outputs": [
    {
     "data": {
      "text/plain": [
       "3.3333333333333335"
      ]
     },
     "execution_count": 13,
     "metadata": {},
     "output_type": "execute_result"
    }
   ],
   "source": [
    "#This will convert 200 minutes to hours by diving by 60:\n",
    "\n",
    "# 60 minutes=1 hour\n",
    "200/60\n"
   ]
  },
  {
   "cell_type": "markdown",
   "id": "da49970e-0f65-4515-bc68-80a51f620a49",
   "metadata": {},
   "source": [
    "##**Author:**\n",
    "\n",
    "Sukanya Goswami"
   ]
  },
  {
   "cell_type": "code",
   "execution_count": null,
   "id": "69433977-882b-4c85-9ef9-385ec33465b2",
   "metadata": {},
   "outputs": [],
   "source": []
  }
 ],
 "metadata": {
  "kernelspec": {
   "display_name": "Python",
   "language": "python",
   "name": "conda-env-python-py"
  },
  "language_info": {
   "codemirror_mode": {
    "name": "ipython",
    "version": 3
   },
   "file_extension": ".py",
   "mimetype": "text/x-python",
   "name": "python",
   "nbconvert_exporter": "python",
   "pygments_lexer": "ipython3",
   "version": "3.7.12"
  }
 },
 "nbformat": 4,
 "nbformat_minor": 5
}
